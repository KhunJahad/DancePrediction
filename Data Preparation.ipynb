{
 "cells": [
  {
   "cell_type": "markdown",
   "metadata": {},
   "source": [
    "# Data Preparation"
   ]
  },
  {
   "cell_type": "code",
   "execution_count": 1,
   "metadata": {},
   "outputs": [],
   "source": [
    "import numpy as np\n",
    "import pandas as pd\n",
    "import matplotlib.pyplot as plt\n",
    "from PIL import Image\n",
    "import copy\n",
    "\n",
    "\n",
    "import torch\n",
    "import torchvision\n",
    "import torchvision.transforms as transforms\n",
    "from torch.utils.data import DataLoader,Dataset,random_split\n",
    "import torch.nn as nn\n",
    "import torch.nn.functional as F\n",
    "import torch.optim as optim\n",
    "import torchvision.models as models"
   ]
  },
  {
   "cell_type": "code",
   "execution_count": 2,
   "metadata": {},
   "outputs": [
    {
     "name": "stdout",
     "output_type": "stream",
     "text": [
      "cuda\n"
     ]
    }
   ],
   "source": [
    "device=torch.device(\"cuda\" if torch.cuda.is_available() else \"cpu\")\n",
    "print(device)"
   ]
  },
  {
   "cell_type": "code",
   "execution_count": 3,
   "metadata": {},
   "outputs": [],
   "source": [
    "import os"
   ]
  },
  {
   "cell_type": "code",
   "execution_count": 4,
   "metadata": {},
   "outputs": [
    {
     "name": "stdout",
     "output_type": "stream",
     "text": [
      "     Image         target\n",
      "0   96.jpg       manipuri\n",
      "1  163.jpg  bharatanatyam\n",
      "2  450.jpg         odissi\n",
      "3  219.jpg      kathakali\n",
      "4  455.jpg         odissi\n"
     ]
    },
    {
     "data": {
      "text/plain": [
       "(364, 2)"
      ]
     },
     "execution_count": 4,
     "metadata": {},
     "output_type": "execute_result"
    }
   ],
   "source": [
    "df=pd.read_csv(\"./dataset/train.csv\",)\n",
    "print(df.head())\n",
    "df.shape"
   ]
  },
  {
   "cell_type": "code",
   "execution_count": 5,
   "metadata": {},
   "outputs": [],
   "source": [
    "train={}\n",
    "for image,label in zip(df[\"Image\"],df[\"target\"]):\n",
    "  train[image]=label"
   ]
  },
  {
   "cell_type": "code",
   "execution_count": 14,
   "metadata": {},
   "outputs": [
    {
     "name": "stdout",
     "output_type": "stream",
     "text": [
      "364\n",
      "{'96.jpg': 'manipuri', '163.jpg': 'bharatanatyam', '450.jpg': 'odissi', '219.jpg': 'kathakali', '455.jpg': 'odissi', '46.jpg': 'kathak', '326.jpg': 'sattriya', '408.jpg': 'kuchipudi', '365.jpg': 'sattriya', '422.jpg': 'kuchipudi', '397.jpg': 'kuchipudi', '400.jpg': 'kuchipudi', '32.jpg': 'kathak', '350.jpg': 'sattriya', '234.jpg': 'kathakali', '492.jpg': 'odissi', '333.jpg': 'sattriya', '376.jpg': 'kuchipudi', '103.jpg': 'manipuri', '39.jpg': 'kathak', '87.jpg': 'manipuri', '155.jpg': 'bharatanatyam', '388.jpg': 'kuchipudi', '384.jpg': 'kuchipudi', '248.jpg': 'mohiniyattam', '494.jpg': 'odissi', '47.jpg': 'kathak', '488.jpg': 'odissi', '462.jpg': 'odissi', '347.jpg': 'sattriya', '242.jpg': 'kathakali', '16.jpg': 'kathak', '178.jpg': 'kathakali', '348.jpg': 'sattriya', '164.jpg': 'bharatanatyam', '2.jpg': 'kathak', '141.jpg': 'bharatanatyam', '187.jpg': 'kathakali', '464.jpg': 'odissi', '472.jpg': 'odissi', '489.jpg': 'odissi', '387.jpg': 'kuchipudi', '109.jpg': 'manipuri', '255.jpg': 'mohiniyattam', '274.jpg': 'mohiniyattam', '509.jpg': 'odissi', '19.jpg': 'kathak', '102.jpg': 'manipuri', '24.jpg': 'kathak', '294.jpg': 'mohiniyattam', '501.jpg': 'odissi', '335.jpg': 'sattriya', '321.jpg': 'sattriya', '480.jpg': 'odissi', '393.jpg': 'kuchipudi', '344.jpg': 'sattriya', '259.jpg': 'mohiniyattam', '76.jpg': 'manipuri', '343.jpg': 'sattriya', '4.jpg': 'kathak', '486.jpg': 'odissi', '361.jpg': 'sattriya', '90.jpg': 'manipuri', '231.jpg': 'kathakali', '331.jpg': 'sattriya', '243.jpg': 'kathakali', '104.jpg': 'manipuri', '113.jpg': 'bharatanatyam', '21.jpg': 'kathak', '15.jpg': 'kathak', '370.jpg': 'sattriya', '124.jpg': 'bharatanatyam', '241.jpg': 'kathakali', '56.jpg': 'kathak', '296.jpg': 'mohiniyattam', '81.jpg': 'manipuri', '29.jpg': 'kathak', '423.jpg': 'kuchipudi', '445.jpg': 'odissi', '406.jpg': 'kuchipudi', '116.jpg': 'bharatanatyam', '407.jpg': 'kuchipudi', '118.jpg': 'bharatanatyam', '367.jpg': 'sattriya', '30.jpg': 'kathak', '395.jpg': 'kuchipudi', '265.jpg': 'mohiniyattam', '73.jpg': 'manipuri', '277.jpg': 'mohiniyattam', '122.jpg': 'bharatanatyam', '516.jpg': 'odissi', '377.jpg': 'kuchipudi', '513.jpg': 'odissi', '405.jpg': 'kuchipudi', '172.jpg': 'bharatanatyam', '299.jpg': 'mohiniyattam', '149.jpg': 'bharatanatyam', '165.jpg': 'bharatanatyam', '371.jpg': 'sattriya', '18.jpg': 'kathak', '213.jpg': 'kathakali', '303.jpg': 'mohiniyattam', '353.jpg': 'sattriya', '135.jpg': 'bharatanatyam', '481.jpg': 'odissi', '3.jpg': 'kathak', '329.jpg': 'sattriya', '345.jpg': 'sattriya', '443.jpg': 'kuchipudi', '504.jpg': 'odissi', '12.jpg': 'kathak', '74.jpg': 'manipuri', '185.jpg': 'kathakali', '161.jpg': 'bharatanatyam', '309.jpg': 'mohiniyattam', '205.jpg': 'kathakali', '379.jpg': 'kuchipudi', '82.jpg': 'manipuri', '276.jpg': 'mohiniyattam', '154.jpg': 'bharatanatyam', '254.jpg': 'mohiniyattam', '26.jpg': 'kathak', '181.jpg': 'kathakali', '425.jpg': 'kuchipudi', '131.jpg': 'bharatanatyam', '272.jpg': 'mohiniyattam', '117.jpg': 'bharatanatyam', '252.jpg': 'mohiniyattam', '180.jpg': 'kathakali', '142.jpg': 'bharatanatyam', '261.jpg': 'mohiniyattam', '136.jpg': 'bharatanatyam', '85.jpg': 'manipuri', '88.jpg': 'manipuri', '372.jpg': 'sattriya', '279.jpg': 'mohiniyattam', '313.jpg': 'sattriya', '159.jpg': 'bharatanatyam', '483.jpg': 'odissi', '262.jpg': 'mohiniyattam', '519.jpg': 'odissi', '308.jpg': 'mohiniyattam', '211.jpg': 'kathakali', '497.jpg': 'odissi', '325.jpg': 'sattriya', '169.jpg': 'bharatanatyam', '244.jpg': 'mohiniyattam', '474.jpg': 'odissi', '322.jpg': 'sattriya', '94.jpg': 'manipuri', '314.jpg': 'sattriya', '356.jpg': 'sattriya', '22.jpg': 'kathak', '512.jpg': 'odissi', '182.jpg': 'kathakali', '156.jpg': 'bharatanatyam', '289.jpg': 'mohiniyattam', '25.jpg': 'kathak', '436.jpg': 'kuchipudi', '93.jpg': 'manipuri', '336.jpg': 'sattriya', '225.jpg': 'kathakali', '298.jpg': 'mohiniyattam', '214.jpg': 'kathakali', '27.jpg': 'kathak', '342.jpg': 'sattriya', '273.jpg': 'mohiniyattam', '133.jpg': 'bharatanatyam', '168.jpg': 'bharatanatyam', '409.jpg': 'kuchipudi', '459.jpg': 'odissi', '31.jpg': 'kathak', '468.jpg': 'odissi', '434.jpg': 'kuchipudi', '312.jpg': 'mohiniyattam', '383.jpg': 'kuchipudi', '476.jpg': 'odissi', '334.jpg': 'sattriya', '151.jpg': 'bharatanatyam', '166.jpg': 'bharatanatyam', '227.jpg': 'kathakali', '471.jpg': 'odissi', '267.jpg': 'mohiniyattam', '100.jpg': 'manipuri', '446.jpg': 'odissi', '208.jpg': 'kathakali', '293.jpg': 'mohiniyattam', '297.jpg': 'mohiniyattam', '412.jpg': 'kuchipudi', '58.jpg': 'kathak', '288.jpg': 'mohiniyattam', '105.jpg': 'manipuri', '477.jpg': 'odissi', '502.jpg': 'odissi', '418.jpg': 'kuchipudi', '233.jpg': 'kathakali', '134.jpg': 'bharatanatyam', '197.jpg': 'kathakali', '245.jpg': 'mohiniyattam', '176.jpg': 'bharatanatyam', '203.jpg': 'kathakali', '247.jpg': 'mohiniyattam', '493.jpg': 'odissi', '68.jpg': 'manipuri', '442.jpg': 'kuchipudi', '115.jpg': 'bharatanatyam', '357.jpg': 'sattriya', '389.jpg': 'kuchipudi', '218.jpg': 'kathakali', '263.jpg': 'mohiniyattam', '184.jpg': 'kathakali', '315.jpg': 'sattriya', '295.jpg': 'mohiniyattam', '42.jpg': 'kathak', '427.jpg': 'kuchipudi', '287.jpg': 'mohiniyattam', '430.jpg': 'kuchipudi', '359.jpg': 'sattriya', '249.jpg': 'mohiniyattam', '54.jpg': 'kathak', '305.jpg': 'mohiniyattam', '319.jpg': 'sattriya', '496.jpg': 'odissi', '60.jpg': 'kathak', '37.jpg': 'kathak', '192.jpg': 'kathakali', '304.jpg': 'mohiniyattam', '258.jpg': 'mohiniyattam', '364.jpg': 'sattriya', '49.jpg': 'kathak', '144.jpg': 'bharatanatyam', '7.jpg': 'kathak', '98.jpg': 'manipuri', '223.jpg': 'kathakali', '320.jpg': 'sattriya', '70.jpg': 'manipuri', '426.jpg': 'kuchipudi', '84.jpg': 'manipuri', '44.jpg': 'kathak', '177.jpg': 'bharatanatyam', '50.jpg': 'kathak', '417.jpg': 'kuchipudi', '191.jpg': 'kathakali', '221.jpg': 'kathakali', '500.jpg': 'odissi', '428.jpg': 'kuchipudi', '137.jpg': 'bharatanatyam', '195.jpg': 'kathakali', '413.jpg': 'kuchipudi', '228.jpg': 'kathakali', '478.jpg': 'odissi', '123.jpg': 'bharatanatyam', '369.jpg': 'sattriya', '328.jpg': 'sattriya', '1.jpg': 'kathak', '126.jpg': 'bharatanatyam', '503.jpg': 'odissi', '352.jpg': 'sattriya', '120.jpg': 'bharatanatyam', '452.jpg': 'odissi', '339.jpg': 'sattriya', '266.jpg': 'mohiniyattam', '201.jpg': 'kathakali', '229.jpg': 'kathakali', '402.jpg': 'kuchipudi', '381.jpg': 'kuchipudi', '449.jpg': 'odissi', '107.jpg': 'manipuri', '444.jpg': 'odissi', '327.jpg': 'sattriya', '8.jpg': 'kathak', '451.jpg': 'odissi', '77.jpg': 'manipuri', '148.jpg': 'bharatanatyam', '399.jpg': 'kuchipudi', '130.jpg': 'bharatanatyam', '362.jpg': 'sattriya', '310.jpg': 'mohiniyattam', '79.jpg': 'manipuri', '127.jpg': 'bharatanatyam', '237.jpg': 'kathakali', '257.jpg': 'mohiniyattam', '160.jpg': 'bharatanatyam', '52.jpg': 'kathak', '190.jpg': 'kathakali', '382.jpg': 'kuchipudi', '143.jpg': 'bharatanatyam', '199.jpg': 'kathakali', '282.jpg': 'mohiniyattam', '207.jpg': 'kathakali', '403.jpg': 'kuchipudi', '337.jpg': 'sattriya', '355.jpg': 'sattriya', '251.jpg': 'mohiniyattam', '188.jpg': 'kathakali', '338.jpg': 'sattriya', '341.jpg': 'sattriya', '433.jpg': 'kuchipudi', '69.jpg': 'manipuri', '236.jpg': 'kathakali', '106.jpg': 'manipuri', '99.jpg': 'manipuri', '179.jpg': 'kathakali', '204.jpg': 'kathakali', '300.jpg': 'mohiniyattam', '432.jpg': 'kuchipudi', '490.jpg': 'odissi', '368.jpg': 'sattriya', '153.jpg': 'bharatanatyam', '174.jpg': 'bharatanatyam', '51.jpg': 'kathak', '62.jpg': 'kathak', '420.jpg': 'kuchipudi', '75.jpg': 'manipuri', '230.jpg': 'kathakali', '307.jpg': 'mohiniyattam', '212.jpg': 'kathakali', '209.jpg': 'kathakali', '415.jpg': 'kuchipudi', '491.jpg': 'odissi', '453.jpg': 'odissi', '351.jpg': 'sattriya', '111.jpg': 'manipuri', '391.jpg': 'kuchipudi', '515.jpg': 'odissi', '65.jpg': 'kathak', '240.jpg': 'kathakali', '91.jpg': 'manipuri', '222.jpg': 'kathakali', '53.jpg': 'kathak', '158.jpg': 'bharatanatyam', '475.jpg': 'odissi', '121.jpg': 'bharatanatyam', '396.jpg': 'kuchipudi', '63.jpg': 'kathak', '268.jpg': 'mohiniyattam', '78.jpg': 'manipuri', '167.jpg': 'bharatanatyam', '250.jpg': 'mohiniyattam', '454.jpg': 'odissi', '186.jpg': 'kathakali', '499.jpg': 'odissi', '101.jpg': 'manipuri', '435.jpg': 'kuchipudi', '469.jpg': 'odissi', '139.jpg': 'bharatanatyam', '83.jpg': 'manipuri', '43.jpg': 'kathak', '281.jpg': 'mohiniyattam', '36.jpg': 'kathak', '419.jpg': 'kuchipudi', '66.jpg': 'kathak', '260.jpg': 'mohiniyattam', '466.jpg': 'odissi', '140.jpg': 'bharatanatyam', '5.jpg': 'kathak', '10.jpg': 'kathak', '235.jpg': 'kathakali', '511.jpg': 'odissi', '72.jpg': 'manipuri', '253.jpg': 'mohiniyattam', '404.jpg': 'kuchipudi', '89.jpg': 'manipuri', '311.jpg': 'mohiniyattam'}\n"
     ]
    }
   ],
   "source": [
    "print(len(train))\n",
    "print(train)"
   ]
  },
  {
   "cell_type": "markdown",
   "metadata": {},
   "source": [
    "# Data Augumentation"
   ]
  },
  {
   "cell_type": "code",
   "execution_count": 23,
   "metadata": {},
   "outputs": [],
   "source": [
    "from skimage.transform import warp,rotate\n",
    "from skimage.util import random_noise\n",
    "from skimage.filters import gaussian\n",
    "import skimage.io as io"
   ]
  },
  {
   "cell_type": "code",
   "execution_count": 40,
   "metadata": {},
   "outputs": [],
   "source": [
    "# this will make the final csv final\n",
    "train_final=[]\n",
    "for image_name,label in zip(train.keys(),train.values()):\n",
    "    train_final.append((image_name,label))"
   ]
  },
  {
   "cell_type": "code",
   "execution_count": 41,
   "metadata": {},
   "outputs": [
    {
     "data": {
      "text/plain": [
       "364"
      ]
     },
     "execution_count": 41,
     "metadata": {},
     "output_type": "execute_result"
    }
   ],
   "source": [
    "len(train_final)"
   ]
  },
  {
   "cell_type": "code",
   "execution_count": 42,
   "metadata": {},
   "outputs": [],
   "source": [
    "for image_name in train.keys():\n",
    "    #img=io.imread(\"./dataset/train/\"+str(image_name))\n",
    "    #rotated_image=rotate(img,angle=45,mode=\"wrap\")\n",
    "    name=str(1000+int(image_name[:-4]))+\".jpg\"\n",
    "    train_final.append((name,train[image_name]))\n",
    "    #io.imsave(name,rotated_image)"
   ]
  },
  {
   "cell_type": "code",
   "execution_count": 43,
   "metadata": {},
   "outputs": [
    {
     "data": {
      "text/plain": [
       "728"
      ]
     },
     "execution_count": 43,
     "metadata": {},
     "output_type": "execute_result"
    }
   ],
   "source": [
    "len(train_final)"
   ]
  },
  {
   "cell_type": "code",
   "execution_count": 44,
   "metadata": {},
   "outputs": [],
   "source": [
    "for image_name in train.keys():\n",
    "    #img=io.imread(\"./dataset/train/\"+str(image_name))\n",
    "    #rotated_image=rotate(img,angle=30,mode=\"wrap\")\n",
    "    name=str(2000+int(image_name[:-4]))+\".jpg\"\n",
    "    train_final.append((name,train[image_name]))\n",
    "    #io.imsave(name,rotated_image)"
   ]
  },
  {
   "cell_type": "code",
   "execution_count": 45,
   "metadata": {},
   "outputs": [],
   "source": [
    "for image_name in train.keys():\n",
    "    #img=io.imread(\"./dataset/train/\"+str(image_name))\n",
    "    #rotated_image=rotate(img,angle=60,mode=\"wrap\")\n",
    "    name=str(3000+int(image_name[:-4]))+\".jpg\"\n",
    "    train_final.append((name,train[image_name]))\n",
    "    #io.imsave(name,rotated_image)"
   ]
  },
  {
   "cell_type": "code",
   "execution_count": 53,
   "metadata": {},
   "outputs": [
    {
     "data": {
      "text/plain": [
       "('96.jpg', 'manipuri')"
      ]
     },
     "execution_count": 53,
     "metadata": {},
     "output_type": "execute_result"
    }
   ],
   "source": [
    "train_final[0]"
   ]
  },
  {
   "cell_type": "code",
   "execution_count": 48,
   "metadata": {},
   "outputs": [],
   "source": [
    "# now lets shift the image for 1456 images\n",
    "from skimage.transform import AffineTransform"
   ]
  },
  {
   "cell_type": "code",
   "execution_count": 56,
   "metadata": {},
   "outputs": [
    {
     "name": "stderr",
     "output_type": "stream",
     "text": [
      "C:\\Users\\Yajur Gaur\\Anaconda3\\lib\\site-packages\\skimage\\util\\dtype.py:141: UserWarning: Possible precision loss when converting from float64 to uint8\n",
      "  .format(dtypeobj_in, dtypeobj_out))\n"
     ]
    }
   ],
   "source": [
    "spam=[]\n",
    "transform=AffineTransform(translation=(25,25))\n",
    "for item in train_final:\n",
    "    name=str(int(str(item[0])[:-4])+4000)+\".jpg\"\n",
    "    label=item[1]\n",
    "    spam.append((name,label))\n",
    "    img=io.imread(\"./dataset/aug_train/\"+item[0])\n",
    "    wrapshift=warp(img,transform,mode=\"wrap\")\n",
    "    io.imsave(name,wrapshift)"
   ]
  },
  {
   "cell_type": "code",
   "execution_count": 57,
   "metadata": {},
   "outputs": [],
   "source": [
    "train_final=train_final+spam"
   ]
  },
  {
   "cell_type": "code",
   "execution_count": 58,
   "metadata": {},
   "outputs": [
    {
     "data": {
      "text/plain": [
       "2912"
      ]
     },
     "execution_count": 58,
     "metadata": {},
     "output_type": "execute_result"
    }
   ],
   "source": [
    "len(train_final)"
   ]
  },
  {
   "cell_type": "code",
   "execution_count": 59,
   "metadata": {},
   "outputs": [],
   "source": [
    "spam=[]\n",
    "for item in train_final:\n",
    "    name=str(int(str(item[0])[:-4])+8000)+\".jpg\"\n",
    "    label=item[1]\n",
    "    spam.append((name,label))\n",
    "    img=io.imread(\"./dataset/aug_train/\"+item[0])\n",
    "    flipped=np.fliplr(img)\n",
    "    io.imsave(name,flipped)"
   ]
  },
  {
   "cell_type": "code",
   "execution_count": 60,
   "metadata": {},
   "outputs": [
    {
     "data": {
      "text/plain": [
       "5824"
      ]
     },
     "execution_count": 60,
     "metadata": {},
     "output_type": "execute_result"
    }
   ],
   "source": [
    "train_final=train_final+spam\n",
    "len(train_final)"
   ]
  },
  {
   "cell_type": "code",
   "execution_count": 61,
   "metadata": {},
   "outputs": [],
   "source": [
    "spam=[]\n",
    "for item in train_final:\n",
    "    name=str(int(str(item[0])[:-4])+16000)+\".jpg\"\n",
    "    label=item[1]\n",
    "    spam.append((name,label))\n",
    "    img=io.imread(\"./dataset/aug_train/\"+item[0])\n",
    "    flipped=np.flipud(img)\n",
    "    io.imsave(name,flipped)"
   ]
  },
  {
   "cell_type": "code",
   "execution_count": 62,
   "metadata": {},
   "outputs": [
    {
     "data": {
      "text/plain": [
       "11648"
      ]
     },
     "execution_count": 62,
     "metadata": {},
     "output_type": "execute_result"
    }
   ],
   "source": [
    "train_final=train_final+spam\n",
    "len(train_final)"
   ]
  },
  {
   "cell_type": "code",
   "execution_count": 81,
   "metadata": {},
   "outputs": [
    {
     "name": "stderr",
     "output_type": "stream",
     "text": [
      "C:\\Users\\Yajur Gaur\\Anaconda3\\lib\\site-packages\\skimage\\util\\dtype.py:141: UserWarning: Possible precision loss when converting from float64 to uint8\n",
      "  .format(dtypeobj_in, dtypeobj_out))\n"
     ]
    }
   ],
   "source": [
    "spam=[]\n",
    "for item in train_final:\n",
    "    name=str(int(str(item[0])[:-4])+32000)+\".jpg\"\n",
    "    label=item[1]\n",
    "    spam.append((name,label))\n",
    "    img=io.imread(\"./dataset/aug_train/\"+item[0])\n",
    "    noisy=random_noise(img,var=0.2**2)\n",
    "    io.imsave(name,noisy)"
   ]
  },
  {
   "cell_type": "code",
   "execution_count": 82,
   "metadata": {},
   "outputs": [
    {
     "data": {
      "text/plain": [
       "23296"
      ]
     },
     "execution_count": 82,
     "metadata": {},
     "output_type": "execute_result"
    }
   ],
   "source": [
    "train_final=train_final+spam\n",
    "len(train_final)"
   ]
  },
  {
   "cell_type": "code",
   "execution_count": 84,
   "metadata": {},
   "outputs": [],
   "source": [
    "spam=[]\n",
    "for item in train_final:\n",
    "    name=str(int(str(item[0])[:-4])+128000)+\".jpg\"\n",
    "    label=item[1]\n",
    "    spam.append((name,label))\n",
    "    img=io.imread(\"./dataset/aug_train/\"+item[0])\n",
    "    noisy=gaussian(img,sigma=1,multichannel=True)\n",
    "    io.imsave(name,noisy)"
   ]
  },
  {
   "cell_type": "code",
   "execution_count": 85,
   "metadata": {},
   "outputs": [
    {
     "data": {
      "text/plain": [
       "46592"
      ]
     },
     "execution_count": 85,
     "metadata": {},
     "output_type": "execute_result"
    }
   ],
   "source": [
    "train_final=train_final+spam\n",
    "len(train_final)"
   ]
  },
  {
   "cell_type": "code",
   "execution_count": 87,
   "metadata": {},
   "outputs": [],
   "source": [
    "train_list_final=[]\n",
    "for item in train_final:\n",
    "    train_list_final.append([item[0],item[1]])"
   ]
  },
  {
   "cell_type": "code",
   "execution_count": 4,
   "metadata": {},
   "outputs": [
    {
     "ename": "NameError",
     "evalue": "name 'train_final' is not defined",
     "output_type": "error",
     "traceback": [
      "\u001b[1;31m---------------------------------------------------------------------------\u001b[0m",
      "\u001b[1;31mNameError\u001b[0m                                 Traceback (most recent call last)",
      "\u001b[1;32m<ipython-input-4-b171737c7b78>\u001b[0m in \u001b[0;36m<module>\u001b[1;34m\u001b[0m\n\u001b[1;32m----> 1\u001b[1;33m \u001b[0mdf\u001b[0m\u001b[1;33m=\u001b[0m\u001b[0mpd\u001b[0m\u001b[1;33m.\u001b[0m\u001b[0mDataFrame\u001b[0m\u001b[1;33m(\u001b[0m\u001b[0mtrain_final\u001b[0m\u001b[1;33m,\u001b[0m\u001b[0mcolumns\u001b[0m\u001b[1;33m=\u001b[0m\u001b[1;33m[\u001b[0m\u001b[1;34m\"Image\"\u001b[0m\u001b[1;33m,\u001b[0m\u001b[1;34m\"target\"\u001b[0m\u001b[1;33m]\u001b[0m\u001b[1;33m)\u001b[0m\u001b[1;33m\u001b[0m\u001b[1;33m\u001b[0m\u001b[0m\n\u001b[0m\u001b[0;32m      2\u001b[0m \u001b[0mdf\u001b[0m\u001b[1;33m.\u001b[0m\u001b[0mto_csv\u001b[0m\u001b[1;33m(\u001b[0m\u001b[1;34m\"new_train.csv\"\u001b[0m\u001b[1;33m,\u001b[0m\u001b[0mindex\u001b[0m\u001b[1;33m=\u001b[0m\u001b[1;32mFalse\u001b[0m\u001b[1;33m)\u001b[0m\u001b[1;33m\u001b[0m\u001b[1;33m\u001b[0m\u001b[0m\n",
      "\u001b[1;31mNameError\u001b[0m: name 'train_final' is not defined"
     ]
    }
   ],
   "source": [
    "df=pd.DataFrame(train_final,columns=[\"Image\",\"target\"])\n",
    "df.to_csv(\"new_train.csv\",index=False)"
   ]
  },
  {
   "cell_type": "code",
   "execution_count": 4,
   "metadata": {},
   "outputs": [
    {
     "name": "stdout",
     "output_type": "stream",
     "text": [
      "     Image         target\n",
      "0   96.jpg       manipuri\n",
      "1  163.jpg  bharatanatyam\n",
      "2  450.jpg         odissi\n",
      "3  219.jpg      kathakali\n",
      "4  455.jpg         odissi\n"
     ]
    },
    {
     "data": {
      "text/plain": [
       "(46592, 2)"
      ]
     },
     "execution_count": 4,
     "metadata": {},
     "output_type": "execute_result"
    }
   ],
   "source": [
    "df=pd.read_csv(\"./new_train.csv\",)\n",
    "print(df.head())\n",
    "df.shape"
   ]
  },
  {
   "cell_type": "code",
   "execution_count": 5,
   "metadata": {},
   "outputs": [],
   "source": [
    "train={}\n",
    "for image,label in zip(df[\"Image\"],df[\"target\"]):\n",
    "  train[image]=label"
   ]
  },
  {
   "cell_type": "markdown",
   "metadata": {},
   "source": [
    "# Model "
   ]
  },
  {
   "cell_type": "code",
   "execution_count": 6,
   "metadata": {},
   "outputs": [],
   "source": [
    "class DancePredictionDataset(Dataset):\n",
    "\n",
    "  def __init__(self,file_path,train=True,transform=None):\n",
    "    self.transform=transform\n",
    "    self.file_path=file_path\n",
    "    self.train=train\n",
    "    self.file_names=[file for _,_,files in os.walk(self.file_path) for file in files]\n",
    "    self.len=len(self.file_names)\n",
    "    if self.train:\n",
    "      self.classes_mapping=self.get_classes()\n",
    "\n",
    "  def __len__(self):\n",
    "    return len(self.file_names)\n",
    "\n",
    "    \n",
    "  def pil_loader(self,path):\n",
    "    with open(path,\"rb\") as f:\n",
    "      img=Image.open(f)\n",
    "      return img.convert(\"RGB\")\n",
    "\n",
    "  def __getitem__(self,index):\n",
    "    file_name=self.file_names[index]\n",
    "    image_data=self.pil_loader(self.file_path+\"/\"+file_name)\n",
    "    if self.transform:\n",
    "      image_data=self.transform(image_data)\n",
    "\n",
    "    if self.train:\n",
    "      class_=train[file_name]\n",
    "      label=self.classes_mapping[class_]\n",
    "      return image_data,label\n",
    "    else:\n",
    "      return image_data,file_name\n",
    "\n",
    "  def get_classes(self):\n",
    "    class_mapping={}\n",
    "    class_mapping[\"manipuri\"]=torch.tensor([1,0,0,0,0,0,0,0])\n",
    "    class_mapping[\"bharatanatyam\"]=torch.tensor([0,1,0,0,0,0,0,0])\n",
    "    class_mapping[\"odissi\"]=torch.tensor([0,0,1,0,0,0,0,0])\n",
    "    class_mapping[\"kathakali\"]=torch.tensor([0,0,0,1,0,0,0,0])\n",
    "    class_mapping[\"kathak\"]=torch.tensor([0,0,0,0,1,0,0,0])\n",
    "    class_mapping[\"sattriya\"]=torch.tensor([0,0,0,0,0,1,0,0])\n",
    "    class_mapping[\"kuchipudi\"]=torch.tensor([0,0,0,0,0,0,1,0])\n",
    "    class_mapping[\"mohiniyattam\"]=torch.tensor([0,0,0,0,0,0,0,1])\n",
    "    return class_mapping"
   ]
  },
  {
   "cell_type": "code",
   "execution_count": 7,
   "metadata": {},
   "outputs": [],
   "source": [
    "transform=transforms.Compose([transforms.Resize(256),transforms.CenterCrop(224),transforms.ToTensor()])"
   ]
  },
  {
   "cell_type": "code",
   "execution_count": 8,
   "metadata": {},
   "outputs": [],
   "source": [
    "full_data = DancePredictionDataset(\"./dataset/aug_train/\",train=True,transform=transform)\n",
    "train_size = int(0.95 * len(full_data))\n",
    "test_size = len(full_data) - train_size\n",
    "\n",
    "train_data, validation_data = random_split(full_data, [train_size, test_size])\n",
    "batch_size=32\n",
    "train_loader = DataLoader(train_data, batch_size=batch_size, shuffle=True)\n",
    "validation_loader = DataLoader(validation_data, batch_size=batch_size, shuffle=True)"
   ]
  },
  {
   "cell_type": "code",
   "execution_count": 9,
   "metadata": {},
   "outputs": [
    {
     "name": "stdout",
     "output_type": "stream",
     "text": [
      "torch.Size([32, 3, 224, 224])\n",
      "torch.Size([32, 8])\n"
     ]
    }
   ],
   "source": [
    "data_iter=iter(train_loader)\n",
    "images,label=data_iter.next()\n",
    "print(images.shape)\n",
    "print(label.shape)"
   ]
  },
  {
   "cell_type": "code",
   "execution_count": 10,
   "metadata": {},
   "outputs": [],
   "source": [
    "mapping={}\n",
    "mapping[1]=\"manipuri\"\n",
    "mapping[2]=\"bharatanatyam\"\n",
    "mapping[3]=\"odissi\"\n",
    "mapping[4]=\"kathakali\"\n",
    "mapping[5]=\"kathak\"\n",
    "mapping[6]=\"sattriya\"\n",
    "mapping[7]=\"kuchipudi\"\n",
    "mapping[8]=\"mohiniyattam\""
   ]
  },
  {
   "cell_type": "code",
   "execution_count": 11,
   "metadata": {},
   "outputs": [],
   "source": [
    "class Net(nn.Module):\n",
    "    \n",
    "    \n",
    "    def __init__(self):\n",
    "        super(Net,self).__init__()\n",
    "        self.feature=resnet         \n",
    "        \n",
    "    def forward(self,input_):\n",
    "        input_=input_.to(device)\n",
    "        out=self.feature(input_)        \n",
    "        return out"
   ]
  },
  {
   "cell_type": "code",
   "execution_count": 12,
   "metadata": {},
   "outputs": [],
   "source": [
    "def eval(net,dataloader,device=\"cpu\"):\n",
    "    total=0\n",
    "    correct=0\n",
    "    for data in dataloader:\n",
    "        net.load_state_dict(best_model)\n",
    "        net.eval()\n",
    "        img,label=data\n",
    "        img,label=img.to(device),label.to(device)\n",
    "        pred=net(img)\n",
    "        for i in range(pred.shape[0]):\n",
    "            total+=1\n",
    "            if (pred[i].argmax()==label[i].argmax()):\n",
    "                correct+=1\n",
    "                \n",
    "        del img,label,pred\n",
    "        torch.cuda.empty_cache\n",
    "    \n",
    "    accuracy=(correct/total)*100\n",
    "    return accuracy"
   ]
  },
  {
   "cell_type": "code",
   "execution_count": 13,
   "metadata": {},
   "outputs": [],
   "source": [
    "resnet=models.resnet50(pretrained=True)\n",
    "resnet.to(device)\n",
    "net=Net()"
   ]
  },
  {
   "cell_type": "code",
   "execution_count": 14,
   "metadata": {},
   "outputs": [
    {
     "name": "stdout",
     "output_type": "stream",
     "text": [
      "ResNet(\n",
      "  (conv1): Conv2d(3, 64, kernel_size=(7, 7), stride=(2, 2), padding=(3, 3), bias=False)\n",
      "  (bn1): BatchNorm2d(64, eps=1e-05, momentum=0.1, affine=True, track_running_stats=True)\n",
      "  (relu): ReLU(inplace=True)\n",
      "  (maxpool): MaxPool2d(kernel_size=3, stride=2, padding=1, dilation=1, ceil_mode=False)\n",
      "  (layer1): Sequential(\n",
      "    (0): Bottleneck(\n",
      "      (conv1): Conv2d(64, 64, kernel_size=(1, 1), stride=(1, 1), bias=False)\n",
      "      (bn1): BatchNorm2d(64, eps=1e-05, momentum=0.1, affine=True, track_running_stats=True)\n",
      "      (conv2): Conv2d(64, 64, kernel_size=(3, 3), stride=(1, 1), padding=(1, 1), bias=False)\n",
      "      (bn2): BatchNorm2d(64, eps=1e-05, momentum=0.1, affine=True, track_running_stats=True)\n",
      "      (conv3): Conv2d(64, 256, kernel_size=(1, 1), stride=(1, 1), bias=False)\n",
      "      (bn3): BatchNorm2d(256, eps=1e-05, momentum=0.1, affine=True, track_running_stats=True)\n",
      "      (relu): ReLU(inplace=True)\n",
      "      (downsample): Sequential(\n",
      "        (0): Conv2d(64, 256, kernel_size=(1, 1), stride=(1, 1), bias=False)\n",
      "        (1): BatchNorm2d(256, eps=1e-05, momentum=0.1, affine=True, track_running_stats=True)\n",
      "      )\n",
      "    )\n",
      "    (1): Bottleneck(\n",
      "      (conv1): Conv2d(256, 64, kernel_size=(1, 1), stride=(1, 1), bias=False)\n",
      "      (bn1): BatchNorm2d(64, eps=1e-05, momentum=0.1, affine=True, track_running_stats=True)\n",
      "      (conv2): Conv2d(64, 64, kernel_size=(3, 3), stride=(1, 1), padding=(1, 1), bias=False)\n",
      "      (bn2): BatchNorm2d(64, eps=1e-05, momentum=0.1, affine=True, track_running_stats=True)\n",
      "      (conv3): Conv2d(64, 256, kernel_size=(1, 1), stride=(1, 1), bias=False)\n",
      "      (bn3): BatchNorm2d(256, eps=1e-05, momentum=0.1, affine=True, track_running_stats=True)\n",
      "      (relu): ReLU(inplace=True)\n",
      "    )\n",
      "    (2): Bottleneck(\n",
      "      (conv1): Conv2d(256, 64, kernel_size=(1, 1), stride=(1, 1), bias=False)\n",
      "      (bn1): BatchNorm2d(64, eps=1e-05, momentum=0.1, affine=True, track_running_stats=True)\n",
      "      (conv2): Conv2d(64, 64, kernel_size=(3, 3), stride=(1, 1), padding=(1, 1), bias=False)\n",
      "      (bn2): BatchNorm2d(64, eps=1e-05, momentum=0.1, affine=True, track_running_stats=True)\n",
      "      (conv3): Conv2d(64, 256, kernel_size=(1, 1), stride=(1, 1), bias=False)\n",
      "      (bn3): BatchNorm2d(256, eps=1e-05, momentum=0.1, affine=True, track_running_stats=True)\n",
      "      (relu): ReLU(inplace=True)\n",
      "    )\n",
      "  )\n",
      "  (layer2): Sequential(\n",
      "    (0): Bottleneck(\n",
      "      (conv1): Conv2d(256, 128, kernel_size=(1, 1), stride=(1, 1), bias=False)\n",
      "      (bn1): BatchNorm2d(128, eps=1e-05, momentum=0.1, affine=True, track_running_stats=True)\n",
      "      (conv2): Conv2d(128, 128, kernel_size=(3, 3), stride=(2, 2), padding=(1, 1), bias=False)\n",
      "      (bn2): BatchNorm2d(128, eps=1e-05, momentum=0.1, affine=True, track_running_stats=True)\n",
      "      (conv3): Conv2d(128, 512, kernel_size=(1, 1), stride=(1, 1), bias=False)\n",
      "      (bn3): BatchNorm2d(512, eps=1e-05, momentum=0.1, affine=True, track_running_stats=True)\n",
      "      (relu): ReLU(inplace=True)\n",
      "      (downsample): Sequential(\n",
      "        (0): Conv2d(256, 512, kernel_size=(1, 1), stride=(2, 2), bias=False)\n",
      "        (1): BatchNorm2d(512, eps=1e-05, momentum=0.1, affine=True, track_running_stats=True)\n",
      "      )\n",
      "    )\n",
      "    (1): Bottleneck(\n",
      "      (conv1): Conv2d(512, 128, kernel_size=(1, 1), stride=(1, 1), bias=False)\n",
      "      (bn1): BatchNorm2d(128, eps=1e-05, momentum=0.1, affine=True, track_running_stats=True)\n",
      "      (conv2): Conv2d(128, 128, kernel_size=(3, 3), stride=(1, 1), padding=(1, 1), bias=False)\n",
      "      (bn2): BatchNorm2d(128, eps=1e-05, momentum=0.1, affine=True, track_running_stats=True)\n",
      "      (conv3): Conv2d(128, 512, kernel_size=(1, 1), stride=(1, 1), bias=False)\n",
      "      (bn3): BatchNorm2d(512, eps=1e-05, momentum=0.1, affine=True, track_running_stats=True)\n",
      "      (relu): ReLU(inplace=True)\n",
      "    )\n",
      "    (2): Bottleneck(\n",
      "      (conv1): Conv2d(512, 128, kernel_size=(1, 1), stride=(1, 1), bias=False)\n",
      "      (bn1): BatchNorm2d(128, eps=1e-05, momentum=0.1, affine=True, track_running_stats=True)\n",
      "      (conv2): Conv2d(128, 128, kernel_size=(3, 3), stride=(1, 1), padding=(1, 1), bias=False)\n",
      "      (bn2): BatchNorm2d(128, eps=1e-05, momentum=0.1, affine=True, track_running_stats=True)\n",
      "      (conv3): Conv2d(128, 512, kernel_size=(1, 1), stride=(1, 1), bias=False)\n",
      "      (bn3): BatchNorm2d(512, eps=1e-05, momentum=0.1, affine=True, track_running_stats=True)\n",
      "      (relu): ReLU(inplace=True)\n",
      "    )\n",
      "    (3): Bottleneck(\n",
      "      (conv1): Conv2d(512, 128, kernel_size=(1, 1), stride=(1, 1), bias=False)\n",
      "      (bn1): BatchNorm2d(128, eps=1e-05, momentum=0.1, affine=True, track_running_stats=True)\n",
      "      (conv2): Conv2d(128, 128, kernel_size=(3, 3), stride=(1, 1), padding=(1, 1), bias=False)\n",
      "      (bn2): BatchNorm2d(128, eps=1e-05, momentum=0.1, affine=True, track_running_stats=True)\n",
      "      (conv3): Conv2d(128, 512, kernel_size=(1, 1), stride=(1, 1), bias=False)\n",
      "      (bn3): BatchNorm2d(512, eps=1e-05, momentum=0.1, affine=True, track_running_stats=True)\n",
      "      (relu): ReLU(inplace=True)\n",
      "    )\n",
      "  )\n",
      "  (layer3): Sequential(\n",
      "    (0): Bottleneck(\n",
      "      (conv1): Conv2d(512, 256, kernel_size=(1, 1), stride=(1, 1), bias=False)\n",
      "      (bn1): BatchNorm2d(256, eps=1e-05, momentum=0.1, affine=True, track_running_stats=True)\n",
      "      (conv2): Conv2d(256, 256, kernel_size=(3, 3), stride=(2, 2), padding=(1, 1), bias=False)\n",
      "      (bn2): BatchNorm2d(256, eps=1e-05, momentum=0.1, affine=True, track_running_stats=True)\n",
      "      (conv3): Conv2d(256, 1024, kernel_size=(1, 1), stride=(1, 1), bias=False)\n",
      "      (bn3): BatchNorm2d(1024, eps=1e-05, momentum=0.1, affine=True, track_running_stats=True)\n",
      "      (relu): ReLU(inplace=True)\n",
      "      (downsample): Sequential(\n",
      "        (0): Conv2d(512, 1024, kernel_size=(1, 1), stride=(2, 2), bias=False)\n",
      "        (1): BatchNorm2d(1024, eps=1e-05, momentum=0.1, affine=True, track_running_stats=True)\n",
      "      )\n",
      "    )\n",
      "    (1): Bottleneck(\n",
      "      (conv1): Conv2d(1024, 256, kernel_size=(1, 1), stride=(1, 1), bias=False)\n",
      "      (bn1): BatchNorm2d(256, eps=1e-05, momentum=0.1, affine=True, track_running_stats=True)\n",
      "      (conv2): Conv2d(256, 256, kernel_size=(3, 3), stride=(1, 1), padding=(1, 1), bias=False)\n",
      "      (bn2): BatchNorm2d(256, eps=1e-05, momentum=0.1, affine=True, track_running_stats=True)\n",
      "      (conv3): Conv2d(256, 1024, kernel_size=(1, 1), stride=(1, 1), bias=False)\n",
      "      (bn3): BatchNorm2d(1024, eps=1e-05, momentum=0.1, affine=True, track_running_stats=True)\n",
      "      (relu): ReLU(inplace=True)\n",
      "    )\n",
      "    (2): Bottleneck(\n",
      "      (conv1): Conv2d(1024, 256, kernel_size=(1, 1), stride=(1, 1), bias=False)\n",
      "      (bn1): BatchNorm2d(256, eps=1e-05, momentum=0.1, affine=True, track_running_stats=True)\n",
      "      (conv2): Conv2d(256, 256, kernel_size=(3, 3), stride=(1, 1), padding=(1, 1), bias=False)\n",
      "      (bn2): BatchNorm2d(256, eps=1e-05, momentum=0.1, affine=True, track_running_stats=True)\n",
      "      (conv3): Conv2d(256, 1024, kernel_size=(1, 1), stride=(1, 1), bias=False)\n",
      "      (bn3): BatchNorm2d(1024, eps=1e-05, momentum=0.1, affine=True, track_running_stats=True)\n",
      "      (relu): ReLU(inplace=True)\n",
      "    )\n",
      "    (3): Bottleneck(\n",
      "      (conv1): Conv2d(1024, 256, kernel_size=(1, 1), stride=(1, 1), bias=False)\n",
      "      (bn1): BatchNorm2d(256, eps=1e-05, momentum=0.1, affine=True, track_running_stats=True)\n",
      "      (conv2): Conv2d(256, 256, kernel_size=(3, 3), stride=(1, 1), padding=(1, 1), bias=False)\n",
      "      (bn2): BatchNorm2d(256, eps=1e-05, momentum=0.1, affine=True, track_running_stats=True)\n",
      "      (conv3): Conv2d(256, 1024, kernel_size=(1, 1), stride=(1, 1), bias=False)\n",
      "      (bn3): BatchNorm2d(1024, eps=1e-05, momentum=0.1, affine=True, track_running_stats=True)\n",
      "      (relu): ReLU(inplace=True)\n",
      "    )\n",
      "    (4): Bottleneck(\n",
      "      (conv1): Conv2d(1024, 256, kernel_size=(1, 1), stride=(1, 1), bias=False)\n",
      "      (bn1): BatchNorm2d(256, eps=1e-05, momentum=0.1, affine=True, track_running_stats=True)\n",
      "      (conv2): Conv2d(256, 256, kernel_size=(3, 3), stride=(1, 1), padding=(1, 1), bias=False)\n",
      "      (bn2): BatchNorm2d(256, eps=1e-05, momentum=0.1, affine=True, track_running_stats=True)\n",
      "      (conv3): Conv2d(256, 1024, kernel_size=(1, 1), stride=(1, 1), bias=False)\n",
      "      (bn3): BatchNorm2d(1024, eps=1e-05, momentum=0.1, affine=True, track_running_stats=True)\n",
      "      (relu): ReLU(inplace=True)\n",
      "    )\n",
      "    (5): Bottleneck(\n",
      "      (conv1): Conv2d(1024, 256, kernel_size=(1, 1), stride=(1, 1), bias=False)\n",
      "      (bn1): BatchNorm2d(256, eps=1e-05, momentum=0.1, affine=True, track_running_stats=True)\n",
      "      (conv2): Conv2d(256, 256, kernel_size=(3, 3), stride=(1, 1), padding=(1, 1), bias=False)\n",
      "      (bn2): BatchNorm2d(256, eps=1e-05, momentum=0.1, affine=True, track_running_stats=True)\n",
      "      (conv3): Conv2d(256, 1024, kernel_size=(1, 1), stride=(1, 1), bias=False)\n",
      "      (bn3): BatchNorm2d(1024, eps=1e-05, momentum=0.1, affine=True, track_running_stats=True)\n",
      "      (relu): ReLU(inplace=True)\n",
      "    )\n",
      "  )\n",
      "  (layer4): Sequential(\n",
      "    (0): Bottleneck(\n",
      "      (conv1): Conv2d(1024, 512, kernel_size=(1, 1), stride=(1, 1), bias=False)\n",
      "      (bn1): BatchNorm2d(512, eps=1e-05, momentum=0.1, affine=True, track_running_stats=True)\n",
      "      (conv2): Conv2d(512, 512, kernel_size=(3, 3), stride=(2, 2), padding=(1, 1), bias=False)\n",
      "      (bn2): BatchNorm2d(512, eps=1e-05, momentum=0.1, affine=True, track_running_stats=True)\n",
      "      (conv3): Conv2d(512, 2048, kernel_size=(1, 1), stride=(1, 1), bias=False)\n",
      "      (bn3): BatchNorm2d(2048, eps=1e-05, momentum=0.1, affine=True, track_running_stats=True)\n",
      "      (relu): ReLU(inplace=True)\n",
      "      (downsample): Sequential(\n",
      "        (0): Conv2d(1024, 2048, kernel_size=(1, 1), stride=(2, 2), bias=False)\n",
      "        (1): BatchNorm2d(2048, eps=1e-05, momentum=0.1, affine=True, track_running_stats=True)\n",
      "      )\n",
      "    )\n",
      "    (1): Bottleneck(\n",
      "      (conv1): Conv2d(2048, 512, kernel_size=(1, 1), stride=(1, 1), bias=False)\n",
      "      (bn1): BatchNorm2d(512, eps=1e-05, momentum=0.1, affine=True, track_running_stats=True)\n",
      "      (conv2): Conv2d(512, 512, kernel_size=(3, 3), stride=(1, 1), padding=(1, 1), bias=False)\n",
      "      (bn2): BatchNorm2d(512, eps=1e-05, momentum=0.1, affine=True, track_running_stats=True)\n",
      "      (conv3): Conv2d(512, 2048, kernel_size=(1, 1), stride=(1, 1), bias=False)\n",
      "      (bn3): BatchNorm2d(2048, eps=1e-05, momentum=0.1, affine=True, track_running_stats=True)\n",
      "      (relu): ReLU(inplace=True)\n",
      "    )\n",
      "    (2): Bottleneck(\n",
      "      (conv1): Conv2d(2048, 512, kernel_size=(1, 1), stride=(1, 1), bias=False)\n",
      "      (bn1): BatchNorm2d(512, eps=1e-05, momentum=0.1, affine=True, track_running_stats=True)\n",
      "      (conv2): Conv2d(512, 512, kernel_size=(3, 3), stride=(1, 1), padding=(1, 1), bias=False)\n",
      "      (bn2): BatchNorm2d(512, eps=1e-05, momentum=0.1, affine=True, track_running_stats=True)\n",
      "      (conv3): Conv2d(512, 2048, kernel_size=(1, 1), stride=(1, 1), bias=False)\n",
      "      (bn3): BatchNorm2d(2048, eps=1e-05, momentum=0.1, affine=True, track_running_stats=True)\n",
      "      (relu): ReLU(inplace=True)\n",
      "    )\n",
      "  )\n",
      "  (avgpool): AdaptiveAvgPool2d(output_size=(1, 1))\n",
      "  (fc): Linear(in_features=2048, out_features=1000, bias=True)\n",
      ")\n"
     ]
    }
   ],
   "source": [
    "print(resnet)"
   ]
  },
  {
   "cell_type": "code",
   "execution_count": 15,
   "metadata": {},
   "outputs": [],
   "source": [
    "for param in net.parameters():\n",
    "    param.requires_grad=False"
   ]
  }
 ],
 "metadata": {
  "kernelspec": {
   "display_name": "Python 3",
   "language": "python",
   "name": "python3"
  },
  "language_info": {
   "codemirror_mode": {
    "name": "ipython",
    "version": 3
   },
   "file_extension": ".py",
   "mimetype": "text/x-python",
   "name": "python",
   "nbconvert_exporter": "python",
   "pygments_lexer": "ipython3",
   "version": "3.7.1"
  }
 },
 "nbformat": 4,
 "nbformat_minor": 2
}
